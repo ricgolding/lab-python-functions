{
 "cells": [
  {
   "cell_type": "markdown",
   "id": "25d7736c-ba17-4aff-b6bb-66eba20fbf4e",
   "metadata": {},
   "source": [
    "# Lab | Functions"
   ]
  },
  {
   "cell_type": "markdown",
   "id": "0c581062-8967-4d93-b06e-62833222f930",
   "metadata": {
    "tags": []
   },
   "source": [
    "## Exercise: Managing Customer Orders with Functions\n",
    "\n",
    "In the previous exercise, you improved the code for managing customer orders by using loops and flow control. Now, let's take it a step further and refactor the code by introducing functions.\n",
    "\n",
    "Follow the steps below to complete the exercise:\n",
    "\n",
    "1. Define a function named `initialize_inventory` that takes `products` as a parameter. Inside the function, implement the code for initializing the inventory dictionary using a loop and user input.\n",
    "\n",
    "2. Define a function named `get_customer_orders` that takes no parameters. Inside the function, implement the code for prompting the user to enter the product names using a loop. The function should return the `customer_orders` set.\n",
    "\n",
    "3. Define a function named `update_inventory` that takes `customer_orders` and `inventory` as parameters. Inside the function, implement the code for updating the inventory dictionary based on the customer orders.\n",
    "\n",
    "4. Define a function named `calculate_order_statistics` that takes `customer_orders` and `products` as parameters. Inside the function, implement the code for calculating the order statistics (total products ordered, and percentage of unique products ordered). The function should return these values.\n",
    "\n",
    "5. Define a function named `print_order_statistics` that takes `order_statistics` as a parameter. Inside the function, implement the code for printing the order statistics.\n",
    "\n",
    "6. Define a function named `print_updated_inventory` that takes `inventory` as a parameter. Inside the function, implement the code for printing the updated inventory.\n",
    "\n",
    "7. Call the functions in the appropriate sequence to execute the program and manage customer orders.\n",
    "\n",
    "Hints for functions:\n",
    "\n",
    "- Consider the input parameters required for each function and their return values.\n",
    "- Utilize function parameters and return values to transfer data between functions.\n",
    "- Test your functions individually to ensure they work correctly.\n",
    "\n",
    "\n"
   ]
  },
  {
   "cell_type": "code",
   "execution_count": 187,
   "id": "dbbda184-b276-49da-9cbb-e7c356a2110e",
   "metadata": {},
   "outputs": [
    {
     "name": "stdin",
     "output_type": "stream",
     "text": [
      "Please enter the product quantity to store in the inventory for t-shirt:  15\n",
      "Please enter the product quantity to store in the inventory for mug:  15\n",
      "Please enter the product quantity to store in the inventory for hat:  15\n",
      "Please enter the product quantity to store in the inventory for book:  15\n",
      "Please enter the product quantity to store in the inventory for keychain:  15\n"
     ]
    },
    {
     "data": {
      "text/plain": [
       "{'t-shirt': 15, 'mug': 15, 'hat': 15, 'book': 15, 'keychain': 15}"
      ]
     },
     "execution_count": 187,
     "metadata": {},
     "output_type": "execute_result"
    }
   ],
   "source": [
    "#1 \n",
    "products = [\"t-shirt\", \"mug\", \"hat\", \"book\", \"keychain\"]\n",
    "inventory = {} \n",
    "\n",
    "def initialize_inventory(products):   \n",
    "    for product in products:\n",
    "        product_quantity = int(input(f\"Please enter the product quantity to store in the inventory for {product}: \"))\n",
    "        inventory[product] = product_quantity\n",
    "    return inventory\n",
    "\n",
    "initialize_inventory(products)"
   ]
  },
  {
   "cell_type": "code",
   "execution_count": 188,
   "id": "688a2fd1-d9ff-4255-bf60-a4d9fb69f39e",
   "metadata": {},
   "outputs": [
    {
     "name": "stdin",
     "output_type": "stream",
     "text": [
      "Please enter the name of a product you'd like to order:  mug\n"
     ]
    },
    {
     "name": "stdout",
     "output_type": "stream",
     "text": [
      "mug was added to your order.\n"
     ]
    },
    {
     "name": "stdin",
     "output_type": "stream",
     "text": [
      "Would you like to add an additional product to your order? (yes/no):  yes\n",
      "Please enter the name of a product you'd like to order:  hat\n"
     ]
    },
    {
     "name": "stdout",
     "output_type": "stream",
     "text": [
      "hat was added to your order.\n"
     ]
    },
    {
     "name": "stdin",
     "output_type": "stream",
     "text": [
      "Would you like to add an additional product to your order? (yes/no):  yes\n",
      "Please enter the name of a product you'd like to order:  keychain\n"
     ]
    },
    {
     "name": "stdout",
     "output_type": "stream",
     "text": [
      "keychain was added to your order.\n"
     ]
    },
    {
     "name": "stdin",
     "output_type": "stream",
     "text": [
      "Would you like to add an additional product to your order? (yes/no):  no\n"
     ]
    },
    {
     "name": "stdout",
     "output_type": "stream",
     "text": [
      "Thank you for your order!\n",
      "The current product orders are: {'hat', 'mug', 'keychain'}\n"
     ]
    },
    {
     "data": {
      "text/plain": [
       "{'hat', 'keychain', 'mug'}"
      ]
     },
     "execution_count": 188,
     "metadata": {},
     "output_type": "execute_result"
    }
   ],
   "source": [
    "#2\n",
    "\n",
    "customer_orders = set()\n",
    "\n",
    "def get_customer_orders():\n",
    "    new_order = 'yes'\n",
    "    while new_order == 'yes':\n",
    "        product_order = input(\"Please enter the name of a product you'd like to order: \").lower()\n",
    "        if product_order in inventory:\n",
    "            if product_order not in customer_orders:\n",
    "                customer_orders.add(product_order)\n",
    "                print(f\"{product_order} was added to your order.\")\n",
    "            else:\n",
    "                print(f\"You've already ordered {product_order}. Please choose a different product.\")\n",
    "        else:\n",
    "            print(f\"Sorry, {product_order} is not available in our inventory.\")\n",
    "        \n",
    "        new_order = input(\"Would you like to add an additional product to your order? (yes/no): \").lower()\n",
    "        while new_order not in ['yes', 'no']:\n",
    "            print(\"Sorry, this is an invalid input. Please type 'yes' or 'no'.\")\n",
    "            new_order = input(\"Would you like to add an additional product to your order? (yes/no): \").lower()\n",
    "    \n",
    "    print('Thank you for your order!')\n",
    "    print(f\"The current product orders are: {customer_orders}\")\n",
    "    return customer_orders\n",
    "\n",
    "get_customer_orders()"
   ]
  },
  {
   "cell_type": "code",
   "execution_count": 189,
   "id": "6105d7a1-b2ac-43a2-b8c5-8d4edc12d737",
   "metadata": {},
   "outputs": [
    {
     "data": {
      "text/plain": [
       "{'t-shirt': 15, 'mug': 14, 'hat': 14, 'book': 15, 'keychain': 14}"
      ]
     },
     "execution_count": 189,
     "metadata": {},
     "output_type": "execute_result"
    }
   ],
   "source": [
    "#3 Define a function named update_inventory that takes customer_orders and inventory as parameters. \n",
    "#Inside the function, implement the code for updating the inventory dictionary based on the customer orders.\n",
    "\n",
    "def update_inventory(customer_orders, inventory):\n",
    "    for product in customer_orders:\n",
    "        if product in inventory and inventory[product] > 0:\n",
    "            inventory[product] -= 1\n",
    "        else:\n",
    "            print(f\"Cannot fulfill order for {product}: Out of stock.\")\n",
    "    return inventory\n",
    "\n",
    "update_inventory(customer_orders,inventory)\n",
    "    "
   ]
  },
  {
   "cell_type": "code",
   "execution_count": 190,
   "id": "e525bb0c-e880-4ef4-8480-e96abd2406fe",
   "metadata": {},
   "outputs": [
    {
     "data": {
      "text/plain": [
       "(3, 0.6)"
      ]
     },
     "execution_count": 190,
     "metadata": {},
     "output_type": "execute_result"
    }
   ],
   "source": [
    "#4 Define a function named calculate_order_statistics that takes customer_orders and products as parameters. \n",
    "#Inside the function, implement the code for calculating the order statistics (total products ordered, \n",
    "#and percentage of unique products ordered). The function should return these values.\n",
    "\n",
    "def calculate_order_statistics(customer_orders, products):\n",
    "    total_products_ordered = len(customer_orders)\n",
    "    percentage_of_products_ordered = total_products_ordered / len(products) if len(products) > 0 else 0\n",
    "    return total_products_ordered, percentage_of_products_ordered\n",
    "\n",
    "calculate_order_statistics(customer_orders, products)\n",
    "\n",
    "\n"
   ]
  },
  {
   "cell_type": "code",
   "execution_count": 191,
   "id": "68a2ea25-a2cc-476b-a75f-d2f95430fc78",
   "metadata": {},
   "outputs": [
    {
     "name": "stdout",
     "output_type": "stream",
     "text": [
      "Order Statistics:\n",
      "Total Products Ordered: 3\n",
      "Percentage of Products Ordered: 60.0%\n"
     ]
    }
   ],
   "source": [
    "#5 Define a function named print_order_statistics that takes order_statistics as a parameter. \n",
    "#Inside the function, implement the code for printing the order statistics.\n",
    "\n",
    "def print_order_statistics(calculate_order_statistics):\n",
    "    total_products_ordered, percentage_of_products_ordered = calculate_order_statistics(customer_orders, products)\n",
    "    print(\"Order Statistics:\")\n",
    "    print(f\"Total Products Ordered: {total_products_ordered}\")\n",
    "    print(f\"Percentage of Products Ordered: {percentage_of_products_ordered:.1%}\")\n",
    "\n",
    "\n",
    "print_order_statistics(calculate_order_statistics)"
   ]
  },
  {
   "cell_type": "code",
   "execution_count": 192,
   "id": "0a38e0dc-35f8-487a-a800-6cf79f6f9314",
   "metadata": {},
   "outputs": [
    {
     "name": "stdout",
     "output_type": "stream",
     "text": [
      "Updated Inventory:\n",
      "t-shirt: 15\n",
      "mug: 14\n",
      "hat: 14\n",
      "book: 15\n",
      "keychain: 14\n"
     ]
    }
   ],
   "source": [
    "#6 Define a function named `print_updated_inventory` that takes `inventory` as a parameter. \n",
    "#Inside the function, implement the code for printing the updated inventory.\n",
    "\n",
    "def print_updated_inventory(inventory):\n",
    "    print(\"Updated Inventory:\")\n",
    "    for product, quantity in inventory.items():\n",
    "        print(f\"{product}: {quantity}\")\n",
    "\n",
    "print_updated_inventory(inventory)"
   ]
  },
  {
   "cell_type": "code",
   "execution_count": 193,
   "id": "c2e05f7d-ba2c-49c3-995f-cedb2240bf95",
   "metadata": {},
   "outputs": [
    {
     "name": "stdin",
     "output_type": "stream",
     "text": [
      "Please enter the product quantity to store in the inventory for t-shirt:  15\n",
      "Please enter the product quantity to store in the inventory for mug:  15\n",
      "Please enter the product quantity to store in the inventory for hat:  15\n",
      "Please enter the product quantity to store in the inventory for book:  15\n",
      "Please enter the product quantity to store in the inventory for keychain:  15\n",
      "Please enter the name of a product you'd like to order:  mug\n"
     ]
    },
    {
     "name": "stdout",
     "output_type": "stream",
     "text": [
      "You've already ordered mug. Please choose a different product.\n"
     ]
    },
    {
     "name": "stdin",
     "output_type": "stream",
     "text": [
      "Would you like to add an additional product to your order? (yes/no):  yes\n",
      "Please enter the name of a product you'd like to order:  hat\n"
     ]
    },
    {
     "name": "stdout",
     "output_type": "stream",
     "text": [
      "You've already ordered hat. Please choose a different product.\n"
     ]
    },
    {
     "name": "stdin",
     "output_type": "stream",
     "text": [
      "Would you like to add an additional product to your order? (yes/no):  yes\n",
      "Please enter the name of a product you'd like to order:  book\n"
     ]
    },
    {
     "name": "stdout",
     "output_type": "stream",
     "text": [
      "book was added to your order.\n"
     ]
    },
    {
     "name": "stdin",
     "output_type": "stream",
     "text": [
      "Would you like to add an additional product to your order? (yes/no):  no\n"
     ]
    },
    {
     "name": "stdout",
     "output_type": "stream",
     "text": [
      "Thank you for your order!\n",
      "The current product orders are: {'hat', 'mug', 'keychain', 'book'}\n",
      "Updated Inventory:\n",
      "t-shirt: 15\n",
      "mug: 14\n",
      "hat: 14\n",
      "book: 14\n",
      "keychain: 14\n",
      "Order Statistics:\n",
      "Total Products Ordered: 4\n",
      "Percentage of Products Ordered: 80.0%\n"
     ]
    }
   ],
   "source": [
    "#7 Call the functions in the appropriate sequence to execute the program and manage customer orders.\n",
    "\n",
    "initialize_inventory(products)\n",
    "get_customer_orders()\n",
    "inventory = update_inventory(customer_orders, inventory)\n",
    "print_updated_inventory(inventory)\n",
    "print_order_statistics(calculate_order_statistics)"
   ]
  },
  {
   "cell_type": "markdown",
   "id": "e5268355-87c0-4df9-9009-59911512af51",
   "metadata": {},
   "source": []
  }
 ],
 "metadata": {
  "kernelspec": {
   "display_name": "Python 3 (ipykernel)",
   "language": "python",
   "name": "python3"
  },
  "language_info": {
   "codemirror_mode": {
    "name": "ipython",
    "version": 3
   },
   "file_extension": ".py",
   "mimetype": "text/x-python",
   "name": "python",
   "nbconvert_exporter": "python",
   "pygments_lexer": "ipython3",
   "version": "3.12.7"
  }
 },
 "nbformat": 4,
 "nbformat_minor": 5
}
